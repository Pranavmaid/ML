{
 "cells": [
  {
   "cell_type": "code",
   "execution_count": 3,
   "metadata": {},
   "outputs": [],
   "source": [
    "import pandas as pd\n",
    "import numpy as np\n",
    "from yahoofinancials import YahooFinancials\n",
    "from sklearn.linear_model import LinearRegression\n",
    "import matplotlib.pyplot as plt"
   ]
  },
  {
   "cell_type": "code",
   "execution_count": 4,
   "metadata": {},
   "outputs": [
    {
     "name": "stdout",
     "output_type": "stream",
     "text": [
      "Enter company name : GT\n",
      "number of data pts =  1063\n",
      "\n",
      "Prediction\n",
      "\n",
      "Original\n",
      "      3\n",
      "0  7.22\n",
      "1  6.43\n",
      "\n",
      "Prediction\n",
      "[[6.67979243]\n",
      " [6.16313329]]\n"
     ]
    }
   ],
   "source": [
    "stock = input(\"Enter company name : \")\n",
    "\n",
    "highs=[]\n",
    "lows=[]\n",
    "opens=[]\n",
    "closes=[]\n",
    "\n",
    "yahoo_financials = YahooFinancials(stock)\n",
    "data = yahoo_financials.get_historical_price_data(start_date='2000-01-01', \n",
    "                                                  end_date='2020-05-15', \n",
    "                                                  time_interval='weekly')\n",
    "i=0\n",
    "for date in (data[stock][\"prices\"]):\n",
    " if i==0:\n",
    "  i+=1\n",
    "  continue\n",
    " highs.append(date[\"high\"])\n",
    " lows.append(date[\"low\"])\n",
    " opens.append(date[\"open\"])\n",
    " closes.append(date[\"close\"])\n",
    " i+=1\n",
    "print(\"number of data pts = \",i)\n",
    "\n",
    "total=[]\n",
    "totalopens=[]\n",
    "for j in range(4):\n",
    " opens.append(0)\n",
    "\n",
    "for i in range(i-1):\n",
    " total.append([opens[i],lows[i],highs[i],closes[i]])\n",
    "\n",
    "def Predictor(lst,months):\n",
    "  total_training = lst[0:i-months]\n",
    "  total_testing = lst[i-months:]\n",
    "\n",
    "  df = pd.DataFrame(total_training, dtype=float)\n",
    "  XTrain = df.iloc[:, :-1]\n",
    "  yTrain = df.iloc[:,[-1]]\n",
    "\n",
    "  model = LinearRegression(fit_intercept=True)\n",
    "  model.fit(XTrain,yTrain)\n",
    "  \n",
    "  dfp = pd.DataFrame(total_testing, dtype=float)\n",
    "  XTest = dfp.iloc[:, :-1]\n",
    "  yTest = dfp.iloc[:,[-1]]\n",
    "\n",
    "  print(\"\\nPrediction\")\n",
    "\n",
    "  prediction = model.predict(XTest)\n",
    "\n",
    "  print(\"\\nOriginal\")\n",
    "  print(yTest)\n",
    "\n",
    "  print(\"\\nPrediction\")\n",
    "  print(prediction)\n",
    "\n",
    "  \n",
    "Predictor(total,1)"
   ]
  },
  {
   "cell_type": "code",
   "execution_count": null,
   "metadata": {},
   "outputs": [],
   "source": []
  }
 ],
 "metadata": {
  "kernelspec": {
   "display_name": "Python 3",
   "language": "python",
   "name": "python3"
  },
  "language_info": {
   "codemirror_mode": {
    "name": "ipython",
    "version": 3
   },
   "file_extension": ".py",
   "mimetype": "text/x-python",
   "name": "python",
   "nbconvert_exporter": "python",
   "pygments_lexer": "ipython3",
   "version": "3.7.6"
  }
 },
 "nbformat": 4,
 "nbformat_minor": 4
}
